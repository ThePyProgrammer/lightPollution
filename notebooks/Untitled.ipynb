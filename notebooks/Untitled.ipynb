{
 "cells": [
  {
   "cell_type": "markdown",
   "metadata": {},
   "source": []
  },
  {
   "cell_type": "code",
   "execution_count": 1,
   "metadata": {},
   "outputs": [
    {
     "name": "stdout",
     "output_type": "stream",
     "text": [
      "Collecting imagecodecs\n",
      "  Downloading imagecodecs-2021.6.8-cp37-cp37m-win_amd64.whl (12.8 MB)\n",
      "Requirement already satisfied: numpy>=1.15.1 in c:\\users\\prannaya\\appdata\\roaming\\python\\python37\\site-packages (from imagecodecs) (1.20.3)\n",
      "Installing collected packages: imagecodecs\n",
      "Successfully installed imagecodecs-2021.6.8\n"
     ]
    },
    {
     "name": "stderr",
     "output_type": "stream",
     "text": [
      "WARNING: You are using pip version 21.1.3; however, version 21.2.1 is available.\n",
      "You should consider upgrading via the 'c:\\users\\prannaya\\appdata\\local\\programs\\python\\python37\\python.exe -m pip install --upgrade pip' command.\n"
     ]
    }
   ],
   "source": [
    "%load_ext autoreload\n",
    "%autoreload 2\n",
    "# to ensure kernel resets when files change around it\n",
    "!pip install imagecodecs"
   ]
  },
  {
   "cell_type": "code",
   "execution_count": 2,
   "metadata": {},
   "outputs": [],
   "source": [
    "import numpy as np\n",
    "import cv2 as cv\n",
    "import scipy as sp\n",
    "import skimage as si\n",
    "import skimage.io as skio\n",
    "import matplotlib.pyplot as plt\n",
    "\n",
    "%matplotlib inline"
   ]
  },
  {
   "cell_type": "code",
   "execution_count": 7,
   "metadata": {},
   "outputs": [
    {
     "data": {
      "image/png": "[encoded data removed]",
      "text/plain": [
       "<Figure size 432x288 with 1 Axes>"
      ]
     },
     "metadata": {
      "needs_background": "light"
     },
     "output_type": "display_data"
    }
   ],
   "source": [
    "# read the image stack\n",
    "img = skio.imread('../data/nightLight/Harmonized_DN_NTL_1992_calDMSP.tif')\n",
    "# show the image\n",
    "plt.imshow(img,cmap='gray')\n",
    "plt.axis('off')\n",
    "# save the image\n",
    "plt.savefig('output.tif', transparent=True, dpi=300, bbox_inches=\"tight\", pad_inches=0.0)"
   ]
  },
  {
   "cell_type": "code",
   "execution_count": 5,
   "metadata": {},
   "outputs": [
    {
     "data": {
      "text/plain": [
       "array([[7, 7, 7, ..., 7, 7, 7],\n",
       "       [7, 7, 8, ..., 7, 7, 7],\n",
       "       [7, 8, 8, ..., 8, 7, 7],\n",
       "       ...,\n",
       "       [7, 8, 8, ..., 8, 7, 7],\n",
       "       [7, 7, 8, ..., 7, 7, 7],\n",
       "       [7, 7, 7, ..., 7, 7, 7]], dtype=uint8)"
      ]
     },
     "execution_count": 5,
     "metadata": {},
     "output_type": "execute_result"
    }
   ],
   "source": [
    "img"
   ]
  },
  {
   "cell_type": "code",
   "execution_count": 6,
   "metadata": {},
   "outputs": [
    {
     "data": {
      "text/plain": [
       "(16801, 43201)"
      ]
     },
     "execution_count": 6,
     "metadata": {},
     "output_type": "execute_result"
    }
   ],
   "source": [
    "img.shape"
   ]
  },
  {
   "cell_type": "code",
   "execution_count": null,
   "metadata": {},
   "outputs": [],
   "source": []
  }
 ],
 "metadata": {
  "kernelspec": {
   "display_name": "Python 3",
   "language": "python",
   "name": "python3"
  },
  "language_info": {
   "codemirror_mode": {
    "name": "ipython",
    "version": 3
   },
   "file_extension": ".py",
   "mimetype": "text/x-python",
   "name": "python",
   "nbconvert_exporter": "python",
   "pygments_lexer": "ipython3",
   "version": "3.7.2"
  },
  "widgets": {
   "application/vnd.jupyter.widget-state+json": {
    "state": {},
    "version_major": 2,
    "version_minor": 0
   }
  }
 },
 "nbformat": 4,
 "nbformat_minor": 4
}
