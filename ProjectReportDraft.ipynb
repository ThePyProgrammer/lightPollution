{
 "cells": [
  {
   "cell_type": "markdown",
   "id": "3cdad905",
   "metadata": {},
   "source": [
    "<P> <img src=\"https://i.ibb.co/gyNf19D/nhslogo.png\" alt=\"nhslogo\" border=\"0\" width=\"100\" align=\"right\"><font size=\"6\"><b> CS4132 Data Analytics</b> </font>"
   ]
  },
  {
   "cell_type": "markdown",
   "id": "0b8d0c29",
   "metadata": {},
   "source": [
    "# An Analysis of The Global Light Pollution Standards\n",
    "\n",
    "**Prannaya Gupta (M21404)**\n",
    "\n",
    "_Done as part of **CS4232**: Data Analytics_"
   ]
  },
  {
   "cell_type": "markdown",
   "id": "4fefcd15",
   "metadata": {},
   "source": [
    "## Table of Contents\n",
    "* [Chapter 1](#chapter1)\n",
    "    * [Section 1.1](#section_1_1)\n",
    "    * [Section 1.2](sSection_1_2)\n",
    "        * [Section 1.2.1](#section_1_2_1)\n",
    "        * [Section 1.2.2](#section_1_2_2)\n",
    "        * [Section 1.2.3](#section_1_2_3)\n",
    "* [Chapter 2](#chapter2)\n",
    "    * [Section 2.1](#section_2_1)\n",
    "    * [Section 2.2](#section_2_2)"
   ]
  },
  {
   "cell_type": "code",
   "execution_count": null,
   "id": "8cc709cf",
   "metadata": {},
   "outputs": [],
   "source": []
  }
 ],
 "metadata": {
  "kernelspec": {
   "display_name": "Python 3 (ipykernel)",
   "language": "python",
   "name": "python3"
  },
  "language_info": {
   "codemirror_mode": {
    "name": "ipython",
    "version": 3
   },
   "file_extension": ".py",
   "mimetype": "text/x-python",
   "name": "python",
   "nbconvert_exporter": "python",
   "pygments_lexer": "ipython3",
   "version": "3.9.7"
  },
  "varInspector": {
   "cols": {
    "lenName": 16,
    "lenType": 16,
    "lenVar": 40
   },
   "kernels_config": {
    "python": {
     "delete_cmd_postfix": "",
     "delete_cmd_prefix": "del ",
     "library": "var_list.py",
     "varRefreshCmd": "print(var_dic_list())"
    },
    "r": {
     "delete_cmd_postfix": ") ",
     "delete_cmd_prefix": "rm(",
     "library": "var_list.r",
     "varRefreshCmd": "cat(var_dic_list()) "
    }
   },
   "types_to_exclude": [
    "module",
    "function",
    "builtin_function_or_method",
    "instance",
    "_Feature"
   ],
   "window_display": false
  }
 },
 "nbformat": 4,
 "nbformat_minor": 5
}
