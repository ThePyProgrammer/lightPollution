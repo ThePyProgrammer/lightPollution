{
 "cells": [
  {
   "cell_type": "code",
   "execution_count": 4,
   "source": [
    "import rasterio as rs\r\n",
    "import rasterstats as rstats\r\n",
    "import geopandas as gp\r\n",
    "import pandas as pd\r\n",
    "import re"
   ],
   "outputs": [],
   "metadata": {}
  },
  {
   "cell_type": "code",
   "execution_count": 2,
   "source": [
    "countries_geojson = gp.read_file(\"data/country/world_countries.json\")\r\n",
    "countries_geojson"
   ],
   "outputs": [
    {
     "output_type": "execute_result",
     "data": {
      "text/html": [
       "<div>\n",
       "<style scoped>\n",
       "    .dataframe tbody tr th:only-of-type {\n",
       "        vertical-align: middle;\n",
       "    }\n",
       "\n",
       "    .dataframe tbody tr th {\n",
       "        vertical-align: top;\n",
       "    }\n",
       "\n",
       "    .dataframe thead th {\n",
       "        text-align: right;\n",
       "    }\n",
       "</style>\n",
       "<table border=\"1\" class=\"dataframe\">\n",
       "  <thead>\n",
       "    <tr style=\"text-align: right;\">\n",
       "      <th></th>\n",
       "      <th>Country</th>\n",
       "      <th>ISO_A3</th>\n",
       "      <th>geometry</th>\n",
       "    </tr>\n",
       "  </thead>\n",
       "  <tbody>\n",
       "    <tr>\n",
       "      <th>0</th>\n",
       "      <td>Aruba</td>\n",
       "      <td>ABW</td>\n",
       "      <td>POLYGON ((-69.99694 12.57758, -69.93639 12.531...</td>\n",
       "    </tr>\n",
       "    <tr>\n",
       "      <th>1</th>\n",
       "      <td>Afghanistan</td>\n",
       "      <td>AFG</td>\n",
       "      <td>POLYGON ((71.04980 38.40866, 71.05714 38.40903...</td>\n",
       "    </tr>\n",
       "    <tr>\n",
       "      <th>2</th>\n",
       "      <td>Angola</td>\n",
       "      <td>AGO</td>\n",
       "      <td>MULTIPOLYGON (((11.73752 -16.69258, 11.73851 -...</td>\n",
       "    </tr>\n",
       "    <tr>\n",
       "      <th>3</th>\n",
       "      <td>Anguilla</td>\n",
       "      <td>AIA</td>\n",
       "      <td>MULTIPOLYGON (((-63.03767 18.21296, -63.09952 ...</td>\n",
       "    </tr>\n",
       "    <tr>\n",
       "      <th>4</th>\n",
       "      <td>Albania</td>\n",
       "      <td>ALB</td>\n",
       "      <td>POLYGON ((19.74777 42.57890, 19.74601 42.57993...</td>\n",
       "    </tr>\n",
       "    <tr>\n",
       "      <th>...</th>\n",
       "      <td>...</td>\n",
       "      <td>...</td>\n",
       "      <td>...</td>\n",
       "    </tr>\n",
       "    <tr>\n",
       "      <th>250</th>\n",
       "      <td>Samoa</td>\n",
       "      <td>WSM</td>\n",
       "      <td>MULTIPOLYGON (((-171.57002 -13.93816, -171.564...</td>\n",
       "    </tr>\n",
       "    <tr>\n",
       "      <th>251</th>\n",
       "      <td>Yemen</td>\n",
       "      <td>YEM</td>\n",
       "      <td>MULTIPOLYGON (((53.30824 12.11839, 53.31027 12...</td>\n",
       "    </tr>\n",
       "    <tr>\n",
       "      <th>252</th>\n",
       "      <td>South Africa</td>\n",
       "      <td>ZAF</td>\n",
       "      <td>MULTIPOLYGON (((37.86378 -46.94085, 37.83644 -...</td>\n",
       "    </tr>\n",
       "    <tr>\n",
       "      <th>253</th>\n",
       "      <td>Zambia</td>\n",
       "      <td>ZMB</td>\n",
       "      <td>POLYGON ((31.11984 -8.61663, 31.14102 -8.60619...</td>\n",
       "    </tr>\n",
       "    <tr>\n",
       "      <th>254</th>\n",
       "      <td>Zimbabwe</td>\n",
       "      <td>ZWE</td>\n",
       "      <td>POLYGON ((30.01065 -15.64623, 30.05024 -15.640...</td>\n",
       "    </tr>\n",
       "  </tbody>\n",
       "</table>\n",
       "<p>255 rows × 3 columns</p>\n",
       "</div>"
      ],
      "text/plain": [
       "          Country ISO_A3                                           geometry\n",
       "0           Aruba    ABW  POLYGON ((-69.99694 12.57758, -69.93639 12.531...\n",
       "1     Afghanistan    AFG  POLYGON ((71.04980 38.40866, 71.05714 38.40903...\n",
       "2          Angola    AGO  MULTIPOLYGON (((11.73752 -16.69258, 11.73851 -...\n",
       "3        Anguilla    AIA  MULTIPOLYGON (((-63.03767 18.21296, -63.09952 ...\n",
       "4         Albania    ALB  POLYGON ((19.74777 42.57890, 19.74601 42.57993...\n",
       "..            ...    ...                                                ...\n",
       "250         Samoa    WSM  MULTIPOLYGON (((-171.57002 -13.93816, -171.564...\n",
       "251         Yemen    YEM  MULTIPOLYGON (((53.30824 12.11839, 53.31027 12...\n",
       "252  South Africa    ZAF  MULTIPOLYGON (((37.86378 -46.94085, 37.83644 -...\n",
       "253        Zambia    ZMB  POLYGON ((31.11984 -8.61663, 31.14102 -8.60619...\n",
       "254      Zimbabwe    ZWE  POLYGON ((30.01065 -15.64623, 30.05024 -15.640...\n",
       "\n",
       "[255 rows x 3 columns]"
      ]
     },
     "metadata": {},
     "execution_count": 2
    }
   ],
   "metadata": {}
  },
  {
   "cell_type": "code",
   "execution_count": 5,
   "source": [
    "def retrieveGeoStats(raster_file):\r\n",
    "    year = re.search(r\"\\d+\", raster_file).group()\r\n",
    "    rf = rs.open(raster_file,\"r\")\r\n",
    "    values = pd.DataFrame(rstats.zonal_stats(countries_geojson, rf.read(1), affine=rf.transform, stats=[\"count\", \"mean\", \"min\", \"max\", 'median', 'std', \"majority\"], geojson_out=True, nodata=-1))\r\n",
    "    del rf\r\n",
    "    return countries_geojson.merge(pd.concat([values, values.properties.apply(pd.Series)], axis=1).drop(columns=[\"geometry\", \"properties\"])).rename(columns={\"mean\":\"average\", \"majority\":\"mode\"}).set_index(\"Country\").rename(columns=lambda name: f\"{name}LightPollution{year}\").rename(columns={f\"countLightPollution{year}\":f\"recordCount{year}\"}).reset_index()\r\n",
    "\r\n",
    "nightLight1992 = retrieveGeoStats(\"data/nightLight/Harmonized_DN_NTL_1992_calDMSP.tif\")\r\n",
    "nightLight1992"
   ],
   "outputs": [],
   "metadata": {}
  },
  {
   "cell_type": "code",
   "execution_count": null,
   "source": [],
   "outputs": [],
   "metadata": {}
  }
 ],
 "metadata": {
  "orig_nbformat": 4,
  "language_info": {
   "name": "python",
   "version": "3.9.7",
   "mimetype": "text/x-python",
   "codemirror_mode": {
    "name": "ipython",
    "version": 3
   },
   "pygments_lexer": "ipython3",
   "nbconvert_exporter": "python",
   "file_extension": ".py"
  },
  "kernelspec": {
   "name": "python3",
   "display_name": "Python 3.9.7 64-bit ('analytics': conda)"
  },
  "interpreter": {
   "hash": "1c99e64c7194d82fe71825e66e1490458bc758d9d8382ab99f449926b2d76be4"
  }
 },
 "nbformat": 4,
 "nbformat_minor": 2
}