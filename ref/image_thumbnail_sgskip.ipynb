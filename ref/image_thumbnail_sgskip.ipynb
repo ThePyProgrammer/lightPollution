{
 "cells": [
  {
   "cell_type": "code",
   "execution_count": 1,
   "metadata": {
    "collapsed": false,
    "jupyter": {
     "outputs_hidden": false
    }
   },
   "outputs": [],
   "source": [
    "%matplotlib inline"
   ]
  },
  {
   "cell_type": "markdown",
   "metadata": {},
   "source": [
    "\n",
    "# Image Thumbnail\n",
    "\n",
    "You can use Matplotlib to generate thumbnails from existing images.\n",
    "Matplotlib relies on Pillow_ for reading images, and thus supports all formats\n",
    "supported by Pillow.\n",
    "\n"
   ]
  },
  {
   "cell_type": "code",
   "execution_count": 7,
   "metadata": {
    "collapsed": false,
    "jupyter": {
     "outputs_hidden": false
    }
   },
   "outputs": [
    {
     "name": "stdout",
     "output_type": "stream",
     "text": [
      "saved thumbnail of python.png to thumbs\\python.png\n"
     ]
    }
   ],
   "source": [
    "from glob import glob\n",
    "from pathlib import Path\n",
    "import sys\n",
    "import matplotlib.image as image\n",
    "\n",
    "outdir = Path(\"thumbs\")\n",
    "outdir.mkdir(parents=True, exist_ok=True)\n",
    "\n",
    "for path in glob(\"*.png\"):\n",
    "    outpath = outdir / path\n",
    "    fig = image.thumbnail(path, outpath, scale=0.15)\n",
    "    print(f\"saved thumbnail of {path} to {outpath}\")"
   ]
  },
  {
   "cell_type": "code",
   "execution_count": null,
   "metadata": {},
   "outputs": [],
   "source": []
  },
  {
   "cell_type": "code",
   "execution_count": null,
   "metadata": {},
   "outputs": [],
   "source": []
  }
 ],
 "metadata": {
  "kernelspec": {
   "display_name": "Python 3",
   "language": "python",
   "name": "python3"
  },
  "language_info": {
   "codemirror_mode": {
    "name": "ipython",
    "version": 3
   },
   "file_extension": ".py",
   "mimetype": "text/x-python",
   "name": "python",
   "nbconvert_exporter": "python",
   "pygments_lexer": "ipython3",
   "version": "3.7.2"
  },
  "widgets": {
   "application/vnd.jupyter.widget-state+json": {
    "state": {},
    "version_major": 2,
    "version_minor": 0
   }
  }
 },
 "nbformat": 4,
 "nbformat_minor": 4
}
